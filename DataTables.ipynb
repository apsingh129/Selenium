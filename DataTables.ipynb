{
 "cells": [
  {
   "cell_type": "code",
   "execution_count": 1,
   "id": "prompt-workstation",
   "metadata": {},
   "outputs": [],
   "source": [
    "import time\n",
    "from selenium import webdriver\n",
    "from selenium.webdriver.common.by import By\n",
    "from selenium.webdriver.common.keys import Keys\n",
    "#import WebElement\n",
    "from selenium.webdriver.support.ui import Select\n"
   ]
  },
  {
   "cell_type": "code",
   "execution_count": 2,
   "id": "vanilla-electricity",
   "metadata": {},
   "outputs": [
    {
     "name": "stderr",
     "output_type": "stream",
     "text": [
      "C:\\Users\\apsingh\\AppData\\Local\\Temp\\ipykernel_9816\\459010890.py:1: DeprecationWarning: executable_path has been deprecated, please pass in a Service object\n",
      "  driver = webdriver.Chrome(executable_path='C:/web driver/chromedriver.exe')\n"
     ]
    }
   ],
   "source": [
    "driver = webdriver.Chrome(executable_path='C:/web driver/chromedriver.exe')\n",
    "driver.get(' https://datatables.net/')\n",
    "driver.maximize_window()"
   ]
  },
  {
   "cell_type": "code",
   "execution_count": 3,
   "id": "abroad-chapter",
   "metadata": {},
   "outputs": [],
   "source": [
    "# starting point\n",
    "#table=driver.find_element(By.XPATH,'//*[@id=\"example_length\"]/label/select/option[2]') # //table[@id=\"example\"]\n",
    "table=driver.find_element(By.XPATH,'/html/body/div[2]/div[2]/div/div[2]/div/div/table') \n",
    "#table=driver.find_element(By.XPATH,'//*[@id=\"example_length\"]/label/select').get_attribute('25')"
   ]
  },
  {
   "cell_type": "code",
   "execution_count": 4,
   "id": "71ecbf0d",
   "metadata": {},
   "outputs": [],
   "source": [
    "#table=driver.find_element(By.XPATH,'//*[@id=\"example_wrapper\"]/')\n",
    "#slect.select_by_visible_text('25')\n"
   ]
  },
  {
   "cell_type": "code",
   "execution_count": null,
   "id": "da690108",
   "metadata": {},
   "outputs": [],
   "source": []
  },
  {
   "cell_type": "code",
   "execution_count": 5,
   "id": "naval-montana",
   "metadata": {},
   "outputs": [],
   "source": [
    "#sort table\n",
    "\n",
    "sort=driver.find_element(By.XPATH,'/html/body/div[2]/div[2]/div/div[2]/div/div/table/thead/tr/th[4]').click()"
   ]
  },
  {
   "cell_type": "code",
   "execution_count": 7,
   "id": "bearing-scanning",
   "metadata": {},
   "outputs": [
    {
     "ename": "IndexError",
     "evalue": "list index out of range",
     "output_type": "error",
     "traceback": [
      "\u001b[1;31m---------------------------------------------------------------------------\u001b[0m",
      "\u001b[1;31mIndexError\u001b[0m                                Traceback (most recent call last)",
      "Input \u001b[1;32mIn [7]\u001b[0m, in \u001b[0;36m<cell line: 3>\u001b[1;34m()\u001b[0m\n\u001b[0;32m      1\u001b[0m \u001b[38;5;66;03m# Print the number of rows\u001b[39;00m\n\u001b[0;32m      2\u001b[0m rowsList\u001b[38;5;241m=\u001b[39m table\u001b[38;5;241m.\u001b[39mfind_elements(By\u001b[38;5;241m.\u001b[39mXPATH,\u001b[38;5;124m'\u001b[39m\u001b[38;5;124m/html/body/div[2]/div[2]/div/div[2]/div/div/table/tbody\u001b[39m\u001b[38;5;124m'\u001b[39m)\n\u001b[1;32m----> 3\u001b[0m \u001b[43mrowsList\u001b[49m\u001b[43m[\u001b[49m\u001b[38;5;241;43m1\u001b[39;49m\u001b[43m]\u001b[49m\u001b[38;5;241m.\u001b[39mclick()\n",
      "\u001b[1;31mIndexError\u001b[0m: list index out of range"
     ]
    }
   ],
   "source": [
    "# Print the number of rows\n",
    "rowsList= table.find_elements(By.XPATH,'/html/body/div[2]/div[2]/div/div[2]/div/div/table/tbody')\n",
    "rowsList[1].click()"
   ]
  },
  {
   "cell_type": "code",
   "execution_count": 8,
   "id": "executive-classic",
   "metadata": {},
   "outputs": [
    {
     "name": "stdout",
     "output_type": "stream",
     "text": [
      "Tatyana Fitzpatrick Regional Director London 19 3/17/2010\n",
      "Shou Itou Regional Marketing Tokyo 20 8/14/2011\n",
      "Caesar Vance Pre-Sales Support New York 21 12/12/2011\n",
      "Lael Greer Systems Administrator London 21 2/27/2009\n",
      "Cedric Kelly Senior Javascript Developer Edinburgh 22 3/29/2012\n",
      "Gavin Cortez Team Leader San Francisco 22 10/26/2008\n",
      "Quinn Flynn Support Lead Edinburgh 22 3/3/2013\n",
      "Doris Wilder Sales Assistant Sydney 23 9/20/2010\n",
      "Sonya Frost Software Engineer Edinburgh 23 12/13/2008\n",
      "Donna Snider Customer Support New York 27 1/25/2011\n"
     ]
    }
   ],
   "source": [
    "# Print out the whole rows\n",
    "entire_row= table.find_elements(By.XPATH,'.//tbody/tr')\n",
    "for row in entire_row:\n",
    "    print(row.text)\n",
    "time.sleep(5)\n",
    "driver.close()"
   ]
  },
  {
   "cell_type": "code",
   "execution_count": null,
   "id": "equal-blanket",
   "metadata": {},
   "outputs": [],
   "source": []
  }
 ],
 "metadata": {
  "kernelspec": {
   "display_name": "Python 3 (ipykernel)",
   "language": "python",
   "name": "python3"
  },
  "language_info": {
   "codemirror_mode": {
    "name": "ipython",
    "version": 3
   },
   "file_extension": ".py",
   "mimetype": "text/x-python",
   "name": "python",
   "nbconvert_exporter": "python",
   "pygments_lexer": "ipython3",
   "version": "3.9.12"
  }
 },
 "nbformat": 4,
 "nbformat_minor": 5
}
