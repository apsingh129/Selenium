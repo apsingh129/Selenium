{
 "cells": [
  {
   "cell_type": "code",
   "execution_count": 1,
   "id": "clinical-washer",
   "metadata": {},
   "outputs": [],
   "source": [
    "from selenium import webdriver"
   ]
  },
  {
   "cell_type": "code",
   "execution_count": 2,
   "id": "broadband-filing",
   "metadata": {},
   "outputs": [],
   "source": [
    "from selenium.webdriver.common.keys import Keys"
   ]
  },
  {
   "cell_type": "code",
   "execution_count": 3,
   "id": "fitting-fighter",
   "metadata": {},
   "outputs": [],
   "source": [
    "import time"
   ]
  },
  {
   "cell_type": "code",
   "execution_count": 4,
   "id": "physical-respect",
   "metadata": {},
   "outputs": [
    {
     "name": "stderr",
     "output_type": "stream",
     "text": [
      "C:\\Users\\apsingh\\AppData\\Local\\Temp\\ipykernel_11536\\3845076056.py:1: DeprecationWarning: executable_path has been deprecated, please pass in a Service object\n",
      "  driver=webdriver.Chrome('C:/web driver/chromedriver.exe')\n"
     ]
    }
   ],
   "source": [
    "driver=webdriver.Chrome('C:/web driver/chromedriver.exe')"
   ]
  },
  {
   "cell_type": "code",
   "execution_count": 5,
   "id": "nominated-synthetic",
   "metadata": {},
   "outputs": [],
   "source": [
    "driver.maximize_window()"
   ]
  },
  {
   "cell_type": "code",
   "execution_count": 6,
   "id": "synthetic-temperature",
   "metadata": {},
   "outputs": [],
   "source": [
    "time.sleep(2)"
   ]
  },
  {
   "cell_type": "code",
   "execution_count": 7,
   "id": "human-prince",
   "metadata": {},
   "outputs": [],
   "source": [
    "from selenium.webdriver.common.by import By"
   ]
  },
  {
   "cell_type": "code",
   "execution_count": 8,
   "id": "directed-judge",
   "metadata": {},
   "outputs": [],
   "source": [
    "driver.get('https://www.google.com/maps')"
   ]
  },
  {
   "cell_type": "code",
   "execution_count": 9,
   "id": "neutral-cartridge",
   "metadata": {},
   "outputs": [],
   "source": [
    "driver.maximize_window()"
   ]
  },
  {
   "cell_type": "code",
   "execution_count": 10,
   "id": "tropical-meaning",
   "metadata": {},
   "outputs": [],
   "source": [
    "time.sleep(2)"
   ]
  },
  {
   "cell_type": "code",
   "execution_count": 11,
   "id": "angry-liberty",
   "metadata": {},
   "outputs": [],
   "source": [
    "from selenium.webdriver.common.by import By"
   ]
  },
  {
   "cell_type": "code",
   "execution_count": 12,
   "id": "exposed-creek",
   "metadata": {},
   "outputs": [],
   "source": [
    "Address=driver.find_element(By.XPATH,'//*[@id=\"searchboxinput\"]')"
   ]
  },
  {
   "cell_type": "code",
   "execution_count": 13,
   "id": "still-watts",
   "metadata": {},
   "outputs": [],
   "source": [
    "Address.send_keys(\"mahalaxmi nagar nere panvel\"+ \"\\n\")"
   ]
  },
  {
   "cell_type": "code",
   "execution_count": 14,
   "id": "sudden-quality",
   "metadata": {},
   "outputs": [
    {
     "data": {
      "text/plain": [
       "True"
      ]
     },
     "execution_count": 14,
     "metadata": {},
     "output_type": "execute_result"
    }
   ],
   "source": [
    "driver.get_screenshot_as_file(\"screenshot.png\")"
   ]
  },
  {
   "cell_type": "code",
   "execution_count": 15,
   "id": "digital-arena",
   "metadata": {},
   "outputs": [],
   "source": [
    "time.sleep(2)"
   ]
  },
  {
   "cell_type": "code",
   "execution_count": 16,
   "id": "broad-intake",
   "metadata": {},
   "outputs": [],
   "source": [
    "l=driver.find_element(By.CSS_SELECTOR,'#QA0Szd > div > div > div.w6VYqd > div.bJzME.tTVLSc > div > div.e07Vkf.kA9KIf > div > div > div.m6QErb.Pf6ghf.ecceSd.tLjsW > div.etWJQ.jym1ob.kdfrQc.pChizd.bWQG4d > button')"
   ]
  },
  {
   "cell_type": "code",
   "execution_count": 17,
   "id": "reduced-friendship",
   "metadata": {},
   "outputs": [],
   "source": [
    "#l=driver.find_element(By.CSS_SELECTOR,'img[alt='Directions']')"
   ]
  },
  {
   "cell_type": "code",
   "execution_count": 18,
   "id": "fossil-actress",
   "metadata": {},
   "outputs": [],
   "source": [
    "l.click()"
   ]
  },
  {
   "cell_type": "code",
   "execution_count": 19,
   "id": "8d147879",
   "metadata": {},
   "outputs": [],
   "source": [
    "time.sleep(2)"
   ]
  },
  {
   "cell_type": "code",
   "execution_count": 20,
   "id": "spatial-separation",
   "metadata": {},
   "outputs": [],
   "source": [
    "#driver.find_element(By.CLASS_NAME,'tactile-searchbox-input').send_keys(\"Here Technology Airoli\")"
   ]
  },
  {
   "cell_type": "code",
   "execution_count": 21,
   "id": "southwest-morgan",
   "metadata": {},
   "outputs": [],
   "source": [
    "office=driver.find_element(By.CSS_SELECTOR,'#sb_ifc51 > input')\n",
    "office.send_keys('Here technologies Airoli')"
   ]
  },
  {
   "cell_type": "code",
   "execution_count": 22,
   "id": "chemical-seattle",
   "metadata": {},
   "outputs": [],
   "source": [
    "Home=driver.find_element(By.CSS_SELECTOR,'#sb_ifc52 > input')\n",
    "Home.send_keys(Keys.ENTER)"
   ]
  },
  {
   "cell_type": "code",
   "execution_count": 23,
   "id": "2f90f354",
   "metadata": {},
   "outputs": [],
   "source": [
    "time.sleep(2)"
   ]
  },
  {
   "cell_type": "code",
   "execution_count": 24,
   "id": "wicked-section",
   "metadata": {},
   "outputs": [
    {
     "name": "stdout",
     "output_type": "stream",
     "text": [
      "1 hr 18 min\n",
      "38.0 km\n",
      "via Bengaluru - Mumbai Hwy/Mumbai Hwy/Mumbai - Pandharpur Rd/Mumbai - Pune Hwy/Mumbai - Satara Hwy/Sion - Panvel Expy\n",
      "Fastest route now, avoids road closure on Meenatai Thakrey Marg\n",
      "This route has tolls.\n",
      "This route has restricted usage or private roads.\n",
      "Details\n"
     ]
    }
   ],
   "source": [
    "timeTaken= driver.find_element(By.XPATH,'//*[@id=\"section-directions-trip-0\"]/div[1]').text\n",
    "print(timeTaken)"
   ]
  },
  {
   "cell_type": "code",
   "execution_count": null,
   "id": "initial-charge",
   "metadata": {},
   "outputs": [],
   "source": []
  },
  {
   "cell_type": "code",
   "execution_count": null,
   "id": "academic-shark",
   "metadata": {},
   "outputs": [],
   "source": []
  }
 ],
 "metadata": {
  "kernelspec": {
   "display_name": "Python 3 (ipykernel)",
   "language": "python",
   "name": "python3"
  },
  "language_info": {
   "codemirror_mode": {
    "name": "ipython",
    "version": 3
   },
   "file_extension": ".py",
   "mimetype": "text/x-python",
   "name": "python",
   "nbconvert_exporter": "python",
   "pygments_lexer": "ipython3",
   "version": "3.9.12"
  }
 },
 "nbformat": 4,
 "nbformat_minor": 5
}
