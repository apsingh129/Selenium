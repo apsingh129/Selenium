{
 "cells": [
  {
   "cell_type": "code",
   "execution_count": 1,
   "id": "amazing-boston",
   "metadata": {},
   "outputs": [],
   "source": [
    "from selenium import webdriver\n",
    "import unittest"
   ]
  },
  {
   "cell_type": "code",
   "execution_count": 2,
   "id": "chemical-jacket",
   "metadata": {},
   "outputs": [],
   "source": [
    "from selenium.webdriver.common.by import By\n",
    "from selenium.webdriver.common.keys import Keys\n",
    "from selenium.webdriver.support import expected_conditions as EC\n",
    "from selenium.webdriver.support.ui import WebDriverWait"
   ]
  },
  {
   "cell_type": "code",
   "execution_count": 3,
   "id": "vulnerable-genius",
   "metadata": {},
   "outputs": [
    {
     "name": "stderr",
     "output_type": "stream",
     "text": [
      "C:\\Users\\apsingh\\AppData\\Local\\Temp\\ipykernel_17068\\3845076056.py:1: DeprecationWarning: executable_path has been deprecated, please pass in a Service object\n",
      "  driver=webdriver.Chrome('C:/web driver/chromedriver.exe')\n"
     ]
    }
   ],
   "source": [
    "driver=webdriver.Chrome('C:/web driver/chromedriver.exe')"
   ]
  },
  {
   "cell_type": "code",
   "execution_count": 4,
   "id": "silent-label",
   "metadata": {},
   "outputs": [],
   "source": [
    "driver.get('http://www.allmovie.com/')\n",
    "driver.maximize_window()"
   ]
  },
  {
   "cell_type": "code",
   "execution_count": 5,
   "id": "tested-prisoner",
   "metadata": {},
   "outputs": [],
   "source": [
    "search=driver.find_element(By.CLASS_NAME,'site-search-input')"
   ]
  },
  {
   "cell_type": "code",
   "execution_count": 6,
   "id": "suitable-object",
   "metadata": {},
   "outputs": [],
   "source": [
    "search.send_keys('The godfather'+'\\n')"
   ]
  },
  {
   "cell_type": "code",
   "execution_count": 7,
   "id": "french-digest",
   "metadata": {},
   "outputs": [],
   "source": [
    "link=driver.find_elements(By.LINK_TEXT,'https://www.allmovie.com/movie/the-godfather-v20076')"
   ]
  },
  {
   "cell_type": "code",
   "execution_count": 8,
   "id": "accepted-brisbane",
   "metadata": {},
   "outputs": [],
   "source": [
    "driver.find_element(By.XPATH,'//*[@id=\"cmn_wrap\"]/div[1]/div[2]/div/ul/li[1]/div[2]/div[1]/a').click()"
   ]
  },
  {
   "cell_type": "code",
   "execution_count": 9,
   "id": "fabulous-inflation",
   "metadata": {},
   "outputs": [
    {
     "name": "stdout",
     "output_type": "stream",
     "text": [
      "https://www.allmovie.com/genre/crime-d653\n"
     ]
    }
   ],
   "source": [
    "element = driver.find_element(By.LINK_TEXT,\"Crime\")\n",
    "print(element.get_property('href'))"
   ]
  },
  {
   "cell_type": "code",
   "execution_count": 10,
   "id": "liable-registrar",
   "metadata": {},
   "outputs": [
    {
     "name": "stdout",
     "output_type": "stream",
     "text": [
      "Genres - Crime  |  \n"
     ]
    }
   ],
   "source": [
    "element=driver.find_element(By.XPATH,'//*[@id=\"cmn_wrap\"]/div[2]/div[2]/header/div/span[1]').text\n",
    "print(element)"
   ]
  },
  {
   "cell_type": "code",
   "execution_count": 11,
   "id": "advance-chemistry",
   "metadata": {},
   "outputs": [],
   "source": [
    "Cast_Crew=driver.find_element(By.XPATH,'//*[@id=\"cmn_wrap\"]/div[2]/div[2]/ul/li[4]')"
   ]
  },
  {
   "cell_type": "code",
   "execution_count": 12,
   "id": "circular-robert",
   "metadata": {},
   "outputs": [],
   "source": [
    "Cast_Crew.click()"
   ]
  },
  {
   "cell_type": "code",
   "execution_count": 13,
   "id": "hourly-marathon",
   "metadata": {},
   "outputs": [
    {
     "name": "stdout",
     "output_type": "stream",
     "text": [
      "Francis Ford Coppola\n"
     ]
    }
   ],
   "source": [
    "element=driver.find_element(By.ID,'director')\n",
    "element = driver.find_element(By.XPATH,'//*[@id=\"cmn_wrap\"]/div[2]/div[2]/section/div[1]/div[1]/div[2]/dl/dt/a')\n",
    "text_length = element.get_property(\"text_length\")\n",
    "#print(text_length)\n",
    "print(element.get_attribute('text'))"
   ]
  },
  {
   "cell_type": "code",
   "execution_count": 22,
   "id": "quantitative-craft",
   "metadata": {},
   "outputs": [
    {
     "name": "stdout",
     "output_type": "stream",
     "text": [
      "None\n"
     ]
    }
   ],
   "source": [
    "verify_cast_name=driver.find_element(By.XPATH,'//*[@id=\"cast\"]').get_attribute('cast-role')\n",
    "print(verify_cast_name)"
   ]
  },
  {
   "cell_type": "code",
   "execution_count": null,
   "id": "understood-luxembourg",
   "metadata": {},
   "outputs": [],
   "source": [
    "  \n",
    "    "
   ]
  },
  {
   "cell_type": "code",
   "execution_count": null,
   "id": "extended-sunglasses",
   "metadata": {},
   "outputs": [],
   "source": []
  }
 ],
 "metadata": {
  "kernelspec": {
   "display_name": "Python 3 (ipykernel)",
   "language": "python",
   "name": "python3"
  },
  "language_info": {
   "codemirror_mode": {
    "name": "ipython",
    "version": 3
   },
   "file_extension": ".py",
   "mimetype": "text/x-python",
   "name": "python",
   "nbconvert_exporter": "python",
   "pygments_lexer": "ipython3",
   "version": "3.9.12"
  }
 },
 "nbformat": 4,
 "nbformat_minor": 5
}
