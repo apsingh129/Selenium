{
 "cells": [
  {
   "cell_type": "code",
   "execution_count": 1,
   "id": "e86100c4",
   "metadata": {},
   "outputs": [],
   "source": [
    "from selenium import webdriver"
   ]
  },
  {
   "cell_type": "code",
   "execution_count": 2,
   "id": "4a4f2d00",
   "metadata": {},
   "outputs": [],
   "source": [
    "from selenium.webdriver.common.by import By\n",
    "from selenium.webdriver.common.keys import Keys\n",
    "from selenium.webdriver.support import expected_conditions as EC\n",
    "from selenium.webdriver.support.ui import WebDriverWait\n",
    "from selenium import webdriver"
   ]
  },
  {
   "cell_type": "code",
   "execution_count": 3,
   "id": "5c4ebe24",
   "metadata": {},
   "outputs": [
    {
     "name": "stderr",
     "output_type": "stream",
     "text": [
      "C:\\Users\\apsingh\\AppData\\Local\\Temp\\ipykernel_23152\\1259155912.py:1: DeprecationWarning: executable_path has been deprecated, please pass in a Service object\n",
      "  driver=webdriver.Chrome('C:/web driver/chromedriver.exe')\n"
     ]
    }
   ],
   "source": [
    "driver=webdriver.Chrome('C:/web driver/chromedriver.exe')\n",
    "driver.get('https://redbus.in/')\n",
    "driver.maximize_window()"
   ]
  },
  {
   "cell_type": "code",
   "execution_count": 4,
   "id": "3afa9ac6",
   "metadata": {},
   "outputs": [],
   "source": [
    "driver.implicitly_wait(10)"
   ]
  },
  {
   "cell_type": "code",
   "execution_count": 5,
   "id": "laughing-rogers",
   "metadata": {},
   "outputs": [],
   "source": [
    "from_Add=driver.find_element(By.ID,'src')"
   ]
  },
  {
   "cell_type": "code",
   "execution_count": 6,
   "id": "stuck-bottom",
   "metadata": {},
   "outputs": [],
   "source": [
    "from_Add.send_keys('Mumbai'+'\\n')"
   ]
  },
  {
   "cell_type": "code",
   "execution_count": 7,
   "id": "sunrise-uzbekistan",
   "metadata": {},
   "outputs": [],
   "source": [
    "To_Add=driver.find_element(By.ID,'dest')"
   ]
  },
  {
   "cell_type": "code",
   "execution_count": 8,
   "id": "healthy-uncertainty",
   "metadata": {},
   "outputs": [],
   "source": [
    "To_Add.send_keys('Pune'+'\\n')\n"
   ]
  },
  {
   "cell_type": "code",
   "execution_count": 9,
   "id": "superior-childhood",
   "metadata": {},
   "outputs": [],
   "source": [
    "Date=driver.find_element(By.CSS_SELECTOR,'#onward_cal')"
   ]
  },
  {
   "cell_type": "code",
   "execution_count": 10,
   "id": "revolutionary-crash",
   "metadata": {},
   "outputs": [],
   "source": [
    "import datetime"
   ]
  },
  {
   "cell_type": "code",
   "execution_count": 11,
   "id": "severe-seventh",
   "metadata": {},
   "outputs": [],
   "source": [
    "d = datetime.date.fromordinal(datetime.date.today().toordinal()-7).strftime(\"%m/%d/%Y\")\n",
    "Date.send_keys(d)"
   ]
  },
  {
   "cell_type": "code",
   "execution_count": null,
   "id": "28a13a0c",
   "metadata": {},
   "outputs": [],
   "source": []
  },
  {
   "cell_type": "code",
   "execution_count": 12,
   "id": "flying-motorcycle",
   "metadata": {},
   "outputs": [],
   "source": [
    "l=driver.find_element(By.XPATH,'//*[@id=\"rb-calendar_onward_cal\"]/table/tbody/tr[6]/td[5]').click()\n"
   ]
  },
  {
   "cell_type": "code",
   "execution_count": 13,
   "id": "conventional-dominant",
   "metadata": {},
   "outputs": [],
   "source": [
    "#driver.find_element(By.CLASS_NAME,'onward_cal')"
   ]
  },
  {
   "cell_type": "code",
   "execution_count": 14,
   "id": "generous-theory",
   "metadata": {},
   "outputs": [],
   "source": [
    "#driver.find_element(By.XPATH,'//*[@id=\"rb-calendar_onward_cal\"]/table/tbody/tr[6]/td[3]').click()"
   ]
  },
  {
   "cell_type": "code",
   "execution_count": 15,
   "id": "constant-wilderness",
   "metadata": {},
   "outputs": [],
   "source": [
    "search=driver.find_element(By.XPATH,'(//button[normalize-space()=\"Search Buses\"])[1]').click()"
   ]
  },
  {
   "cell_type": "code",
   "execution_count": null,
   "id": "lonely-baking",
   "metadata": {},
   "outputs": [],
   "source": []
  },
  {
   "cell_type": "code",
   "execution_count": 16,
   "id": "66237841",
   "metadata": {},
   "outputs": [],
   "source": [
    "from typing import List"
   ]
  },
  {
   "cell_type": "code",
   "execution_count": 17,
   "id": "c78d760e",
   "metadata": {},
   "outputs": [
    {
     "ename": "NoSuchElementException",
     "evalue": "Message: no such element: Unable to locate element: {\"method\":\"xpath\",\"selector\":\"//*[@id=\"result-section\"]/div[2]/ul\"}\n  (Session info: chrome=104.0.5112.102)\nStacktrace:\nBacktrace:\n\tOrdinal0 [0x010A78B3+2193587]\n\tOrdinal0 [0x01040681+1771137]\n\tOrdinal0 [0x00F541A8+803240]\n\tOrdinal0 [0x00F824A0+992416]\n\tOrdinal0 [0x00F8273B+993083]\n\tOrdinal0 [0x00FAF7C2+1177538]\n\tOrdinal0 [0x00F9D7F4+1103860]\n\tOrdinal0 [0x00FADAE2+1170146]\n\tOrdinal0 [0x00F9D5C6+1103302]\n\tOrdinal0 [0x00F777E0+948192]\n\tOrdinal0 [0x00F786E6+952038]\n\tGetHandleVerifier [0x01350CB2+2738370]\n\tGetHandleVerifier [0x013421B8+2678216]\n\tGetHandleVerifier [0x011317AA+512954]\n\tGetHandleVerifier [0x01130856+509030]\n\tOrdinal0 [0x0104743B+1799227]\n\tOrdinal0 [0x0104BB68+1817448]\n\tOrdinal0 [0x0104BC55+1817685]\n\tOrdinal0 [0x01055230+1856048]\n\tBaseThreadInitThunk [0x7744FA29+25]\n\tRtlGetAppContainerNamedObjectPath [0x775B7A9E+286]\n\tRtlGetAppContainerNamedObjectPath [0x775B7A6E+238]\n",
     "output_type": "error",
     "traceback": [
      "\u001b[1;31m---------------------------------------------------------------------------\u001b[0m",
      "\u001b[1;31mNoSuchElementException\u001b[0m                    Traceback (most recent call last)",
      "Input \u001b[1;32mIn [17]\u001b[0m, in \u001b[0;36m<cell line: 1>\u001b[1;34m()\u001b[0m\n\u001b[1;32m----> 1\u001b[0m vector:List\u001b[38;5;241m<\u001b[39mWebElement\u001b[38;5;241m>\u001b[39m list_of_Buses\u001b[38;5;241m=\u001b[39m\u001b[43mdriver\u001b[49m\u001b[38;5;241;43m.\u001b[39;49m\u001b[43mfind_element\u001b[49m\u001b[43m(\u001b[49m\u001b[43mBy\u001b[49m\u001b[38;5;241;43m.\u001b[39;49m\u001b[43mXPATH\u001b[49m\u001b[43m,\u001b[49m\u001b[38;5;124;43m'\u001b[39;49m\u001b[38;5;124;43m//*[@id=\u001b[39;49m\u001b[38;5;124;43m\"\u001b[39;49m\u001b[38;5;124;43mresult-section\u001b[39;49m\u001b[38;5;124;43m\"\u001b[39;49m\u001b[38;5;124;43m]/div[2]/ul\u001b[39;49m\u001b[38;5;124;43m'\u001b[39;49m\u001b[43m)\u001b[49m\n\u001b[0;32m      2\u001b[0m \u001b[38;5;28mprint\u001b[39m(\u001b[38;5;28mlen\u001b[39m(list_of_Buses))\n",
      "File \u001b[1;32m~\\Anaconda3\\lib\\site-packages\\selenium\\webdriver\\remote\\webdriver.py:856\u001b[0m, in \u001b[0;36mWebDriver.find_element\u001b[1;34m(self, by, value)\u001b[0m\n\u001b[0;32m    853\u001b[0m     by \u001b[38;5;241m=\u001b[39m By\u001b[38;5;241m.\u001b[39mCSS_SELECTOR\n\u001b[0;32m    854\u001b[0m     value \u001b[38;5;241m=\u001b[39m \u001b[38;5;124m'\u001b[39m\u001b[38;5;124m[name=\u001b[39m\u001b[38;5;124m\"\u001b[39m\u001b[38;5;132;01m%s\u001b[39;00m\u001b[38;5;124m\"\u001b[39m\u001b[38;5;124m]\u001b[39m\u001b[38;5;124m'\u001b[39m \u001b[38;5;241m%\u001b[39m value\n\u001b[1;32m--> 856\u001b[0m \u001b[38;5;28;01mreturn\u001b[39;00m \u001b[38;5;28;43mself\u001b[39;49m\u001b[38;5;241;43m.\u001b[39;49m\u001b[43mexecute\u001b[49m\u001b[43m(\u001b[49m\u001b[43mCommand\u001b[49m\u001b[38;5;241;43m.\u001b[39;49m\u001b[43mFIND_ELEMENT\u001b[49m\u001b[43m,\u001b[49m\u001b[43m \u001b[49m\u001b[43m{\u001b[49m\n\u001b[0;32m    857\u001b[0m \u001b[43m    \u001b[49m\u001b[38;5;124;43m'\u001b[39;49m\u001b[38;5;124;43musing\u001b[39;49m\u001b[38;5;124;43m'\u001b[39;49m\u001b[43m:\u001b[49m\u001b[43m \u001b[49m\u001b[43mby\u001b[49m\u001b[43m,\u001b[49m\n\u001b[0;32m    858\u001b[0m \u001b[43m    \u001b[49m\u001b[38;5;124;43m'\u001b[39;49m\u001b[38;5;124;43mvalue\u001b[39;49m\u001b[38;5;124;43m'\u001b[39;49m\u001b[43m:\u001b[49m\u001b[43m \u001b[49m\u001b[43mvalue\u001b[49m\u001b[43m}\u001b[49m\u001b[43m)\u001b[49m[\u001b[38;5;124m'\u001b[39m\u001b[38;5;124mvalue\u001b[39m\u001b[38;5;124m'\u001b[39m]\n",
      "File \u001b[1;32m~\\Anaconda3\\lib\\site-packages\\selenium\\webdriver\\remote\\webdriver.py:434\u001b[0m, in \u001b[0;36mWebDriver.execute\u001b[1;34m(self, driver_command, params)\u001b[0m\n\u001b[0;32m    432\u001b[0m response \u001b[38;5;241m=\u001b[39m \u001b[38;5;28mself\u001b[39m\u001b[38;5;241m.\u001b[39mcommand_executor\u001b[38;5;241m.\u001b[39mexecute(driver_command, params)\n\u001b[0;32m    433\u001b[0m \u001b[38;5;28;01mif\u001b[39;00m response:\n\u001b[1;32m--> 434\u001b[0m     \u001b[38;5;28;43mself\u001b[39;49m\u001b[38;5;241;43m.\u001b[39;49m\u001b[43merror_handler\u001b[49m\u001b[38;5;241;43m.\u001b[39;49m\u001b[43mcheck_response\u001b[49m\u001b[43m(\u001b[49m\u001b[43mresponse\u001b[49m\u001b[43m)\u001b[49m\n\u001b[0;32m    435\u001b[0m     response[\u001b[38;5;124m'\u001b[39m\u001b[38;5;124mvalue\u001b[39m\u001b[38;5;124m'\u001b[39m] \u001b[38;5;241m=\u001b[39m \u001b[38;5;28mself\u001b[39m\u001b[38;5;241m.\u001b[39m_unwrap_value(\n\u001b[0;32m    436\u001b[0m         response\u001b[38;5;241m.\u001b[39mget(\u001b[38;5;124m'\u001b[39m\u001b[38;5;124mvalue\u001b[39m\u001b[38;5;124m'\u001b[39m, \u001b[38;5;28;01mNone\u001b[39;00m))\n\u001b[0;32m    437\u001b[0m     \u001b[38;5;28;01mreturn\u001b[39;00m response\n",
      "File \u001b[1;32m~\\Anaconda3\\lib\\site-packages\\selenium\\webdriver\\remote\\errorhandler.py:243\u001b[0m, in \u001b[0;36mErrorHandler.check_response\u001b[1;34m(self, response)\u001b[0m\n\u001b[0;32m    241\u001b[0m         alert_text \u001b[38;5;241m=\u001b[39m value[\u001b[38;5;124m'\u001b[39m\u001b[38;5;124malert\u001b[39m\u001b[38;5;124m'\u001b[39m]\u001b[38;5;241m.\u001b[39mget(\u001b[38;5;124m'\u001b[39m\u001b[38;5;124mtext\u001b[39m\u001b[38;5;124m'\u001b[39m)\n\u001b[0;32m    242\u001b[0m     \u001b[38;5;28;01mraise\u001b[39;00m exception_class(message, screen, stacktrace, alert_text)  \u001b[38;5;66;03m# type: ignore[call-arg]  # mypy is not smart enough here\u001b[39;00m\n\u001b[1;32m--> 243\u001b[0m \u001b[38;5;28;01mraise\u001b[39;00m exception_class(message, screen, stacktrace)\n",
      "\u001b[1;31mNoSuchElementException\u001b[0m: Message: no such element: Unable to locate element: {\"method\":\"xpath\",\"selector\":\"//*[@id=\"result-section\"]/div[2]/ul\"}\n  (Session info: chrome=104.0.5112.102)\nStacktrace:\nBacktrace:\n\tOrdinal0 [0x010A78B3+2193587]\n\tOrdinal0 [0x01040681+1771137]\n\tOrdinal0 [0x00F541A8+803240]\n\tOrdinal0 [0x00F824A0+992416]\n\tOrdinal0 [0x00F8273B+993083]\n\tOrdinal0 [0x00FAF7C2+1177538]\n\tOrdinal0 [0x00F9D7F4+1103860]\n\tOrdinal0 [0x00FADAE2+1170146]\n\tOrdinal0 [0x00F9D5C6+1103302]\n\tOrdinal0 [0x00F777E0+948192]\n\tOrdinal0 [0x00F786E6+952038]\n\tGetHandleVerifier [0x01350CB2+2738370]\n\tGetHandleVerifier [0x013421B8+2678216]\n\tGetHandleVerifier [0x011317AA+512954]\n\tGetHandleVerifier [0x01130856+509030]\n\tOrdinal0 [0x0104743B+1799227]\n\tOrdinal0 [0x0104BB68+1817448]\n\tOrdinal0 [0x0104BC55+1817685]\n\tOrdinal0 [0x01055230+1856048]\n\tBaseThreadInitThunk [0x7744FA29+25]\n\tRtlGetAppContainerNamedObjectPath [0x775B7A9E+286]\n\tRtlGetAppContainerNamedObjectPath [0x775B7A6E+238]\n"
     ]
    }
   ],
   "source": [
    "vector:List<WebElement> list_of_Buses=driver.find_element(By.XPATH,'//*[@id=\"result-section\"]/div[2]/ul')\n",
    "print(len(list_of_Buses))"
   ]
  },
  {
   "cell_type": "code",
   "execution_count": null,
   "id": "a0f8170a",
   "metadata": {},
   "outputs": [],
   "source": [
    "Bus_Name=driver.find_element(By.XPATH,'//*[@id=\"19000009\"]/div/div[1]/div[1]/div[1]/div[1]')\n",
    "Dep_Time=driver.find_element(By.XPATH,'//*[@id=\"19000009\"]/div/div[1]/div[1]/div[2]/div[1]')\n",
    "Arr_Time=driver.find_element(By.XPATH,'//*[@id=\"19000009\"]/div/div[1]/div[1]/div[4]/div[1]')\n",
    "Rating=driver.find_element(By.XPATH,'//*[@id=\"19000009\"]/div/div[1]/div[1]/div[5]/div[1]/div/span')\n",
    "Price=driver.find_element(By.XPATH,'//*[@id=\"19000009\"]/div/div[1]/div[1]/div[6]/div[1]/div[3]/span')\n",
    "\n"
   ]
  },
  {
   "cell_type": "code",
   "execution_count": null,
   "id": "680f1e88",
   "metadata": {},
   "outputs": [],
   "source": [
    "print(Bus_Name)"
   ]
  },
  {
   "cell_type": "code",
   "execution_count": null,
   "id": "01a83401",
   "metadata": {},
   "outputs": [],
   "source": [
    "for lists in list_of_Buses:\n",
    "    if Rating.getText()>4.0:\n",
    "        //TODO ADD row to excel(sheet 1)\n",
    "    else:\n",
    "        //TODO ADD row to excel(sheet 2)\n",
    "    "
   ]
  },
  {
   "cell_type": "code",
   "execution_count": null,
   "id": "b7ddbba1",
   "metadata": {},
   "outputs": [],
   "source": []
  }
 ],
 "metadata": {
  "kernelspec": {
   "display_name": "Python 3 (ipykernel)",
   "language": "python",
   "name": "python3"
  },
  "language_info": {
   "codemirror_mode": {
    "name": "ipython",
    "version": 3
   },
   "file_extension": ".py",
   "mimetype": "text/x-python",
   "name": "python",
   "nbconvert_exporter": "python",
   "pygments_lexer": "ipython3",
   "version": "3.9.12"
  }
 },
 "nbformat": 4,
 "nbformat_minor": 5
}
